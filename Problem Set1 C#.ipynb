{
 "cells": [
  {
   "cell_type": "markdown",
   "id": "457401d6",
   "metadata": {},
   "source": [
    "# Question 1 C#\n"
   ]
  },
  {
   "cell_type": "markdown",
   "id": "6207705c",
   "metadata": {},
   "source": [
    "What data type is each of the following?\n",
    "5\n",
    "5.0\n",
    "5 > 1\n",
    "'5'\n",
    "5 * 2\n",
    "'5' * 2\n",
    "'5' + '2'\n",
    "5 / 2\n",
    "5 % 2\n",
    "{5, 2, 1}\n",
    "5 == 3\n",
    "Pi (the number)\n"
   ]
  },
  {
   "cell_type": "code",
   "execution_count": 93,
   "id": "9943547e",
   "metadata": {},
   "outputs": [
    {
     "name": "stdout",
     "output_type": "stream",
     "text": [
      "5 = Integer\n",
      "5.0 = Double\n",
      "5 > 1 = Boolean\n",
      "'5' = Char (single quotes)\n",
      "5 * 2 = Arithmetic operation - Multiplication\n",
      "'5' * 2 = Arithmetic operation - Multiplication\n",
      "'5' + '2' = Arithmetic operation - Addition\n",
      "5 / 2 = Division of integers\n",
      "5 % 2 = arithmetic operator (Modulo)  for integers\n",
      "{5,2,1} = Array of integers\n",
      "5 == 3 = Boolean. Relational operator, 5 equals 3.\n",
      "Pi = double\n"
     ]
    }
   ],
   "source": [
    "Console.WriteLine(\"5 = Integer\");\n",
    "Console.WriteLine(\"5.0 = Double\");\n",
    "Console.WriteLine(\"5 > 1 = Boolean\");\n",
    "Console.WriteLine(\"'5' = Char (single quotes)\");\n",
    "Console.WriteLine(\"5 * 2 = Arithmetic operation - Multiplication\");\n",
    "Console.WriteLine(\"'5' * 2 = Arithmetic operation - Multiplication\");\n",
    "Console.WriteLine(\"'5' + '2' = Arithmetic operation - Addition\");\n",
    "Console.WriteLine(\"5 / 2 = Division of integers\");\n",
    "Console.WriteLine(\"5 % 2 = arithmetic operator (Modulo)  for integers\");\n",
    "Console.WriteLine(\"{5,2,1} = Array of integers\");\n",
    "Console.WriteLine(\"5 == 3 = Boolean. Relational operator, 5 equals 3.\");\n",
    "Console.WriteLine(\"Pi = double\");\n"
   ]
  },
  {
   "cell_type": "markdown",
   "id": "afcd8690",
   "metadata": {},
   "source": [
    "# Question 2 C#\n"
   ]
  },
  {
   "cell_type": "markdown",
   "id": "d0c5cc6d",
   "metadata": {},
   "source": [
    "Write (and evaluate) C# expressions that answer these questions:\n",
    "\n",
    "a. How many letters are there in 'Supercalifragilisticexpialidocious'?\n",
    "\n",
    "b. Does 'Supercalifragilisticexpialidocious' contain 'ice' as a substring?\n",
    "\n",
    "c. Which of the following words is the longest:\n",
    "Supercalifragilisticexpialidocious, Honorificabilitudinitatibus, or\n",
    "Bababadalgharaghtakamminarronnkonn?\n",
    "\n",
    "d. Which composer comes first in the dictionary: 'Berlioz', 'Borodin', 'Brian',\n",
    "'Bartok', 'Bellini', 'Buxtehude', 'Bernstein'. Which one comes last?"
   ]
  },
  {
   "cell_type": "code",
   "execution_count": 94,
   "id": "efe014a1",
   "metadata": {},
   "outputs": [
    {
     "name": "stdout",
     "output_type": "stream",
     "text": [
      "The word:Supercalifragilisticexpialidocious has 34 letters\r\n"
     ]
    }
   ],
   "source": [
    "// Question 2a \n",
    "\n",
    "//Defining and assigning values to variables and integer to count all letters within String\n",
    "String word = \"Supercalifragilisticexpialidocious\"; \n",
    "\n",
    "int count = 0;\n",
    "\n",
    "//For each letter, take a count and increment the count\n",
    "\n",
    "        foreach (char z in word) \n",
    "            {\n",
    "            count++;\n",
    "            }\n",
    "Console.WriteLine(\"The word:\" +word+\" has \"+count+ \" letters\");\n"
   ]
  },
  {
   "cell_type": "code",
   "execution_count": 95,
   "id": "8f9bdbdc",
   "metadata": {},
   "outputs": [
    {
     "name": "stdout",
     "output_type": "stream",
     "text": [
      "True\r\n"
     ]
    }
   ],
   "source": [
    "// Question 2b\n",
    "\n",
    "//Defining and assigning values to variables.\n",
    "String word = \"Supercalifragilisticexpialidocious\"; \n",
    "\n",
    "//Condition to check if ice is contained in the string\n",
    "            if (word.Contains(\"ice\")){\n",
    "                Console.WriteLine(\"True\");\n",
    "            }\n",
    "            else {\n",
    "                 Console.WriteLine(\"False\");   \n",
    "            }\n"
   ]
  },
  {
   "cell_type": "code",
   "execution_count": 96,
   "id": "95af8b6b",
   "metadata": {},
   "outputs": [
    {
     "name": "stdout",
     "output_type": "stream",
     "text": [
      "the longest word is Bababadalgharaghtakamminarronnkonnand the number of letters is 34\r\n"
     ]
    }
   ],
   "source": [
    "// Question 2c\n",
    "\n",
    " //Declaring 3 Variables as string datatypes to hold the 3 words\n",
    "            String word1 = \"Supercalifragilisticexpialidocious\";\n",
    "            String word2 = \"Honorificabilitudinitatibus\";\n",
    "            String word3 = \"Bababadalgharaghtakamminarronnkonn\";\n",
    "\n",
    "            //Declaring 3 variables as integer datatype and assigning the length of their corresponding strings to the variables\n",
    "            int word1Length = word1.Length;\n",
    "            int word2Length = word2.Length;\n",
    "            int word3Length = word3.Length;\n",
    "\n",
    "            //Comparing the lengths of the integer variable using if and else conditions\n",
    "            if (word1Length > word2Length) \n",
    "            {\n",
    "                if (word1Length > word3Length)\n",
    "                {\n",
    "                    Console.WriteLine(\"the longest word is\" + word1 + \"and the number of letters is \" + word1Length);\n",
    "                }\n",
    "\n",
    "                Console.WriteLine(\"the longest word is \" + word3 + \"and the number of letters is \" + word3Length);\n",
    "\n",
    "            }\n",
    "\n",
    "            else if (word2Length > word3Length)\n",
    "                    {\n",
    "                Console.WriteLine(\"the longest word is \" + word2 + \"and the number of letters is \" + word2Length);\n",
    "                \n",
    "            }"
   ]
  },
  {
   "cell_type": "code",
   "execution_count": 97,
   "id": "f19f6377",
   "metadata": {},
   "outputs": [
    {
     "name": "stdout",
     "output_type": "stream",
     "text": [
      "First: Bartok, and last: Buxtehude\r\n"
     ]
    }
   ],
   "source": [
    "//Question 2d\n",
    "\n",
    "//reference: https://www.codegrepper.com/code-examples/csharp/get+first+and+last+item+list+c%23\n",
    "var composers = new List<string>();\n",
    "    composers.Add(\"Berlioz\");\n",
    "    composers.Add(\"Borodin\");\n",
    "    composers.Add(\"Brian\");\n",
    "    composers.Add(\"Bartok\");\n",
    "    composers.Add(\"Bellini\");\n",
    "    composers.Add(\"Buxtehude\");\n",
    "    composers.Add(\"Bernstein\");\n",
    "\n",
    "composers.Sort(); \n",
    "Console.WriteLine(\"First: \"+composers.First()+\", and last: \"+composers.Last()); "
   ]
  },
  {
   "cell_type": "markdown",
   "id": "bc0b78b5",
   "metadata": {},
   "source": [
    "# Question 3 C#\n",
    "\n",
    "Implement function triangleArea(a,b,c) that takes as input the lengths of the 3\n",
    "sides of a triangle and returns the area of the triangle. By Heron's formula, the area\n",
    "of a triangle with side lengths a, b, and c is\n",
    "s(s - a)(s -b)(s -c)\n",
    ", where s = (a+b+c)/2.\n",
    "\n",
    ">>> triangleArea(2,2,2)\n",
    "1.7320508075688772"
   ]
  },
  {
   "cell_type": "code",
   "execution_count": 99,
   "id": "fbf8b059",
   "metadata": {},
   "outputs": [
    {
     "name": "stdout",
     "output_type": "stream",
     "text": [
      "Area is 1.7320508075688772\r\n"
     ]
    }
   ],
   "source": [
    "//reference for additional support -  https://www.geeksforgeeks.org/c-program-find-area-triangle/    \n",
    "            \n",
    "           //Declaring the data type of variable a,b,c and assigning inputs\n",
    "            double a = 2;\n",
    "            double b = 2;\n",
    "            double c = 2;\n",
    "\n",
    "            //Triangle function that takes 3 input\n",
    "            double triangleArea(double a, double b, double c)\n",
    "            {\n",
    "\n",
    "            //Math function to apply Heron formula\n",
    "\n",
    "                double s = (a + b + c) / 2;\n",
    "                return Math.Sqrt(s * (s - a) * (s - b) * (s - c));\n",
    "            }\n",
    "\n",
    "            Console.WriteLine(\"Area is \" + triangleArea(a, b, c));\n"
   ]
  },
  {
   "cell_type": "markdown",
   "id": "30dd5008",
   "metadata": {},
   "source": [
    "# Question 4 C#"
   ]
  },
  {
   "cell_type": "markdown",
   "id": "97d581f5",
   "metadata": {},
   "source": [
    "Write a program in C# Sharp to separate odd and even integers in separate arrays.\n",
    "Go to the editor\n",
    "Test Data :\n",
    "Input the number of elements to be stored in the array :5\n",
    "Input 5 elements in the array :\n",
    "element - 0 : 25\n",
    "element - 1 : 47\n",
    "element - 2 : 42\n",
    "element - 3 : 56\n",
    "element - 4 : 32\n",
    "Expected Output:\n",
    "The Even elements are:\n",
    "42 56 32\n",
    "The Odd elements are :\n",
    "25 47"
   ]
  },
  {
   "cell_type": "code",
   "execution_count": 100,
   "id": "72b33118",
   "metadata": {},
   "outputs": [
    {
     "name": "stdout",
     "output_type": "stream",
     "text": [
      "*********PROGRAM TO SEPERATE EVEN AND ODD INTEGERS IN SEPERATE ARRAYS*********\n",
      "\n",
      "Go to the editor\n",
      "Test Data : \n",
      "Input the number of elements to be stored in the array :Input 0 elements in the array :\n",
      "\n",
      "The Even elements are:\n",
      " \n",
      "The Odd elements are :\n",
      " "
     ]
    }
   ],
   "source": [
    "            //Declaration of variables \n",
    "            int[] array1 = new int[10];\n",
    "            int[] array2 = new int[10];\n",
    "            int[] array3 = new int[10];\n",
    "\n",
    "            int x;\n",
    "            int y = 0;\n",
    "            int z = 0; \n",
    "            int n;\n",
    "\n",
    "            \n",
    "            Console.Write(\"*********PROGRAM TO SEPERATE EVEN AND ODD INTEGERS IN SEPERATE ARRAYS*********\\n\");\n",
    "            Console.Write(\"\\n\");\n",
    "\n",
    "            Console.Write(\"Go to the editor\\n\");\n",
    "            Console.Write(\"Test Data : \\n\");\n",
    "\n",
    "            Console.Write(\"Input the number of elements to be stored in the array :\");\n",
    "            n = Convert.ToInt32(Console.ReadLine());    //Takes input from user - Number of elements to be stored  and assigns it the varible n\n",
    "\n",
    "            \n",
    "            //Takes a number of inputs from user based on the number of elements to be stored in the array\n",
    "            Console.Write(\"Input {0} elements in the array :\\n\", n);\n",
    "            for (x = 0; x < n; x++)\n",
    "            {\n",
    "                Console.Write(\"element - {0} : \", x);\n",
    "                array1[x] = Convert.ToInt32(Console.ReadLine());\n",
    "            }\n",
    "\n",
    "            for (x = 0; x < n; x++)\n",
    "            {\n",
    "                if (array1[x] % 2 == 0) //Loop to check for Odd/Even and seperate: If the array element results in a remainder of 0 when divided by 2, it is even - put the elements in another array\n",
    "                {\n",
    "                    array2[y] = array1[x];\n",
    "                    y++;\n",
    "                }\n",
    "                else\n",
    "                {\n",
    "                    array3[z] = array1[x];\n",
    "                    z++;\n",
    "                }\n",
    "            }\n",
    "\n",
    "            //Displays Even elements in the array\n",
    "            Console.Write(\"\\nThe Even elements are:\\n \");\n",
    "            for (x = 0; x < y; x++)\n",
    "            {\n",
    "                Console.Write(\"{0} \", array2[x]);\n",
    "            }\n",
    "\n",
    "            //Displays Odd elements in the array\n",
    "            Console.Write(\"\\nThe Odd elements are :\\n \");\n",
    "            for (x = 0; x < z; x++)\n",
    "            {\n",
    "                Console.Write(\"{0} \", array3[x]);\n",
    "            }\n",
    "\n"
   ]
  },
  {
   "attachments": {
    "Question4_Output.PNG": {
     "image/png": "[encoded data removed]"
    }
   },
   "cell_type": "markdown",
   "id": "dabb1852",
   "metadata": {},
   "source": [
    "![Question4_Output.PNG](attachment:Question4_Output.PNG)"
   ]
  },
  {
   "cell_type": "markdown",
   "id": "2fcb58d1",
   "metadata": {},
   "source": [
    "# Question 5 C#"
   ]
  },
  {
   "cell_type": "markdown",
   "id": "f98d1e93",
   "metadata": {},
   "source": [
    "a. Write a function inside(x,y,x1,y1,x2,y2) that returns True or False\n",
    "depending on whether the point (x,y) lies in the rectangle with lower left\n",
    "corner (x1,y1) and upper right corner (x2,y2).\n",
    ">>> inside(1,1,0,0,2,3)\n",
    "True\n",
    ">>> inside(-1,-1,0,0,2,3)\n",
    "False\n",
    "b. Use function inside() from part a. to write an expression that tests whether\n",
    "the point (1,1) lies in both of the following rectangles: one with lower left\n",
    "corner (0.3, 0.5) and upper right corner (1.1, 0.7) and the other with lower\n",
    "left corner (0.5, 0.2) and upper right corner (1.1, 2). \n",
    "\n",
    "Comments: The two questions were solved together"
   ]
  },
  {
   "cell_type": "code",
   "execution_count": 101,
   "id": "7ace47d9",
   "metadata": {},
   "outputs": [
    {
     "name": "stdout",
     "output_type": "stream",
     "text": [
      ">>>inside(1,1,0,0,2,3)\n",
      " True\n",
      ">>>inside(-1,-1,0,0,2,3)\n",
      " False\n",
      ">>>inside(1,1,0.3,0.5,1.1,0.7)\n",
      " False\n",
      ">>>inside(1,1,0.5,0.2,1.1,2)\n",
      " True\n"
     ]
    }
   ],
   "source": [
    "class Solution\n",
    "{ \n",
    "//Function to check if given point lies inside a rectangle or not\n",
    "    public void inside(double x, double y, double x1, double y1, double x2, double y2 )\n",
    "\n",
    "    {\n",
    "        if (x > x1 && x < x2 && y > y1 && y < y2) \n",
    "        {\n",
    "\n",
    "            Console.WriteLine(\">>>\" + \"inside(\" + x + \",\" + y + \",\" + x1 + \",\" + y1 + \",\" + x2 + \",\" + y2 + \")\" + \"\\n True\");\n",
    "            \n",
    "        }else\n",
    "        \n",
    "\n",
    "            Console.WriteLine(\">>>\" + \"inside(\" + x + \",\" + y + \",\" + x1 + \",\" + y1 + \",\" + x2 + \",\" + y2 + \")\" + \"\\n False\"); \n",
    "    }  \n",
    "}   \n",
    "\n",
    "\n",
    "//create a new object object that will call the function above.\n",
    "Solution checkIfInside = new Solution();\n",
    "checkIfInside.inside(1,1,0,0,2,3);\n",
    "checkIfInside.inside(-1,-1,0,0,2,3);\n",
    "checkIfInside.inside(1,1,0.3,0.5,1.1,0.7);\n",
    "checkIfInside.inside(1,1,0.5,0.2,1.1,2);"
   ]
  }
 ],
 "metadata": {
  "kernelspec": {
   "display_name": ".NET (C#)",
   "language": "C#",
   "name": ".net-csharp"
  },
  "language_info": {
   "file_extension": ".cs",
   "mimetype": "text/x-csharp",
   "name": "C#",
   "pygments_lexer": "csharp",
   "version": "8.0"
  }
 },
 "nbformat": 4,
 "nbformat_minor": 5
}
