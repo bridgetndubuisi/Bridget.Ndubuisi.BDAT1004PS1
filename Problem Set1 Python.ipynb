{
 "cells": [
  {
   "cell_type": "markdown",
   "id": "de8f2bb0",
   "metadata": {},
   "source": [
    "# Question 6 Python"
   ]
  },
  {
   "cell_type": "markdown",
   "id": "13a3aa01",
   "metadata": {},
   "source": [
    "You can turn a word into pig-Latin using the following two rules (simplified):\n",
    "• If the word starts with a consonant, move that letter to the end and append\n",
    "'ay'. For example, 'happy' becomes 'appyhay' and 'pencil' becomes 'encilpay'.\n",
    "• If the word starts with a vowel, simply append 'way' to the end of the word.\n",
    "For example, 'enter' becomes 'enterway' and 'other' becomes 'otherway' . For\n",
    "our purposes, there are 5 vowels: a, e, i, o, u (so we count y as a consonant).\n",
    "Write a function pig() that takes a word (i.e., a string) as input and returns its pigLatin form. Your function should still work if the input word contains upper case\n",
    "characters. Your output should always be lower case however.\n",
    ">>> pig('happy')\n",
    "'appyhay'\n",
    ">>> pig('Enter')\n",
    "'enterway'"
   ]
  },
  {
   "cell_type": "code",
   "execution_count": 106,
   "id": "b6d24a8d",
   "metadata": {},
   "outputs": [
    {
     "name": "stdout",
     "output_type": "stream",
     "text": [
      "appyhay\n",
      "enterway\n"
     ]
    }
   ],
   "source": [
    "#declaring a pig function\n",
    "def pig(x):\n",
    "\n",
    "#if else statement to check vowel or consonant and append respectively\n",
    "\n",
    "    if x[0].lower() == 'a' or x[0].lower() == 'e' or x[0].lower() == 'i' or x[0].lower() == 'o'or x[0].lower() == 'u': \n",
    "        print(x.lower()+'way')\n",
    "        \n",
    "    else :                                 \n",
    "        newX = x.replace(x[0],'')          \n",
    "        Consonant = newX+x[0]+'ay'\n",
    "        print (Consonant.lower())\n",
    "            \n",
    "        \n",
    "pig('happy')\n",
    "pig('Enter')\n",
    "\n",
    "\n"
   ]
  },
  {
   "cell_type": "markdown",
   "id": "38eb7846",
   "metadata": {},
   "source": [
    "\n",
    "# Question 7"
   ]
  },
  {
   "cell_type": "markdown",
   "id": "3903e681",
   "metadata": {},
   "source": [
    "File bloodtype1.txt records blood-types of patients (A, B, AB, O or OO) at a clinic.\n",
    "Write a function bldcount() that reads the file with name name and reports (i.e.,\n",
    "prints) how many patients there are in each bloodtype.\n",
    ">>> bldcount('bloodtype.txt')\n",
    "There are 10 patients of blood type A.\n",
    "There is one patient of blood type B.\n",
    "There are 10 patients of blood type AB.\n",
    "There are 12 patients of blood type O.\n",
    "There are no patients of blood type OO."
   ]
  },
  {
   "cell_type": "code",
   "execution_count": 107,
   "id": "6c1f2113",
   "metadata": {},
   "outputs": [
    {
     "name": "stdout",
     "output_type": "stream",
     "text": [
      "There are 15 patients of blood type A\n",
      "There are 1 patients of blood type B\n",
      "There are 13 patients of blood type AB\n",
      "There are 15 patients of blood type O\n",
      "There are 0 patients of blood type OO\n"
     ]
    }
   ],
   "source": [
    "\n",
    "file = open('bloodtype1.txt', 'r') #open up the file from where it's located\n",
    "data = file.read();                #create the variables that will include the open method\n",
    "words = data.split()               #create a variable that will distribute the words\n",
    "\n",
    "#defining the variables to count\n",
    "typeA = 0\n",
    "typeB = 0\n",
    "typeAB = 0\n",
    "typeO = 0\n",
    "typeOO = 0\n",
    "\n",
    "for a in words :          #for loop to check count\n",
    "\n",
    "    if a == 'A' :\n",
    "        typeA  += 1\n",
    "print(\"There are\",typeA,\"patients of blood type A\")\n",
    "\n",
    "for b in words :\n",
    "\n",
    "    if b == 'B' :\n",
    "        typeB  += 1\n",
    "print(\"There are\",typeB,\"patients of blood type B\")\n",
    "    \n",
    "for ab in words :\n",
    "\n",
    "    if ab == 'AB' :\n",
    "        typeAB  += 1\n",
    "print(\"There are\",typeAB,\"patients of blood type AB\")\n",
    "\n",
    "for o in words :\n",
    "\n",
    "    if o == 'O' :\n",
    "        typeO  += 1\n",
    "print(\"There are\",typeO,\"patients of blood type O\")\n",
    "\n",
    "for oo in words :\n",
    "\n",
    "    if oo == 'OO' :\n",
    "        typeOO  += 1\n",
    "print(\"There are\",typeOO,\"patients of blood type OO\")"
   ]
  },
  {
   "cell_type": "markdown",
   "id": "52a8f4b6",
   "metadata": {},
   "source": [
    "# Question 8 Python"
   ]
  },
  {
   "cell_type": "markdown",
   "id": "a729b32a",
   "metadata": {},
   "source": [
    "Write a function curconv() that takes as input:\n",
    "1. a currency represented using a string (e.g., 'JPY' for the Japanese Yen or\n",
    "'EUR' for the Euro)\n",
    "2. an amount\n",
    "and then converts and returns the amount in US dollars.\n",
    ">>> curconv('EUR', 100)\n",
    "122.96544\n",
    ">>> curconv('JPY', 100)\n",
    "1.241401\n",
    "The currency rates you will need are stored in file currencies.txt:\n",
    "AUD 1.0345157 Australian Dollar\n",
    "CHF 1.0237414 Swiss Franc\n",
    "CNY 0.1550176 Chinese Yuan\n",
    "DKK 0.1651442 Danish Krone\n",
    "EUR 1.2296544 Euro\n",
    "GBP 1.5550989 British Pound\n",
    "HKD 0.1270207 Hong Kong Dollar\n",
    "INR 0.0177643 Indian Rupee\n",
    "JPY 0.01241401 Japanese Yen\n",
    "MXN 0.0751848 Mexican Peso\n",
    "MYR 0.3145411 Malaysian Ringgit\n",
    "NOK 0.1677063 Norwegian Krone\n",
    "NZD 0.8003591 New Zealand Dollar\n",
    "PHP 0.0233234 Philippine Peso\n",
    "SEK 0.148269 Swedish Krona\n",
    "SGD 0.788871 Singapore Dollar\n",
    "THB 0.0313789 Thai Baht\n"
   ]
  },
  {
   "cell_type": "code",
   "execution_count": 108,
   "id": "d8f031db",
   "metadata": {},
   "outputs": [
    {
     "name": "stdout",
     "output_type": "stream",
     "text": [
      "122.96544\n",
      "1.241401\n"
     ]
    }
   ],
   "source": [
    "def curconv(a,b) :\n",
    "\n",
    "#declaring currencies as variables and assigning corresponding values \n",
    "    AUD = 1.0345157\n",
    "    CHF = 1.0237414\n",
    "    CNY = 0.1550176\n",
    "    DKK = 0.1651442\n",
    "    EUR = 1.2296544\n",
    "    GBP = 1.5550989\n",
    "    HKD = 0.1270207\n",
    "    INR = 0.0177643\n",
    "    JPY = 0.01241401\n",
    "    MXN = 0.0751848\n",
    "    MYR = 0.3145411\n",
    "    NOK = 0.1677063\n",
    "    NZD = 0.8003591\n",
    "    PHP = 0.0233234\n",
    "    SEK = 0.148269\n",
    "    SGD = 0.788871\n",
    "    THB = 0.0313789\n",
    "\n",
    "#use if statement to match input to an existing currency\n",
    "    if a == 'AUD' :\n",
    "        result = b*AUD\n",
    "        print(result)\n",
    "        \n",
    "    elif a == 'CHF' :\n",
    "        result = b*CHF\n",
    "        print(result)\n",
    "        \n",
    "    elif a == 'CNY' :\n",
    "        result = b*CNY\n",
    "        print(result)\n",
    "        \n",
    "    elif a == 'DKK' :\n",
    "        result = b*DKK\n",
    "        print(result) \n",
    "\n",
    "    elif a == 'EUR' :\n",
    "        result = b*EUR\n",
    "        print(result)\n",
    "    \n",
    "    elif a == 'GBP' :\n",
    "        result = b*GBP\n",
    "        print(result) \n",
    "\n",
    "    elif a == 'HKD' :\n",
    "        result = b*HKD\n",
    "        print(result) \n",
    "\n",
    "    elif a == 'INR' :\n",
    "        result = b*INR\n",
    "        print(result)\n",
    "        \n",
    "    elif a == 'JPY' :\n",
    "        result = b*JPY\n",
    "        print(result) \n",
    "        \n",
    "    elif a == 'MXN' :\n",
    "        result = b*MXN\n",
    "        print(result)        \n",
    " \n",
    "    elif a == 'MYR' :\n",
    "        result = b*MYR\n",
    "        print(result) \n",
    "\n",
    "    elif a == 'NOK' :\n",
    "        result = b*NOK\n",
    "        print(result) \n",
    "    \n",
    "    elif a == 'NZD' :\n",
    "        result = b*NZD\n",
    "        print(result)  \n",
    "    \n",
    "    elif a == 'PHP' :\n",
    "        result = b*PHP\n",
    "        print(result)  \n",
    "    \n",
    "    elif a == 'SEK' :\n",
    "        result = b*SEK\n",
    "        print(result)      \n",
    "    \n",
    "    elif a == 'SGD' :\n",
    "        result = b*SGD\n",
    "        print(result)  \n",
    "\n",
    "    elif a == 'THB' :\n",
    "        result = b*THB\n",
    "        print(result)  \n",
    "    \n",
    "    else :\n",
    "        print (\"Oops!\", a, \"is currently unavailable on this system\")\n",
    "        \n",
    "\n",
    "curconv('EUR', 100)\n",
    "curconv('JPY', 100)"
   ]
  },
  {
   "cell_type": "markdown",
   "id": "51354840",
   "metadata": {},
   "source": [
    "# Question 9 Python"
   ]
  },
  {
   "cell_type": "markdown",
   "id": "af09d3ba",
   "metadata": {},
   "source": [
    "Each of the following will cause an exception (an error). Identify what type of\n",
    "exception each will cause.\n",
    "Trying to add incompatible variables, as in\n",
    "adding 6 + ‘a’\n",
    "Referring to the 12th item of a list that has only 10\n",
    "items\n",
    "Using a value that is out of range for a function’s\n",
    "input, such as calling math.sqrt(-1.0)\n",
    "Using an undeclared variable, such as print(x)\n",
    "when x has not been defined\n",
    "Trying to open a file that does not exist, such as\n",
    "mistyping the file name or looking in the wrong\n",
    "directory. "
   ]
  },
  {
   "cell_type": "code",
   "execution_count": 109,
   "id": "ce1f2156",
   "metadata": {},
   "outputs": [
    {
     "name": "stdout",
     "output_type": "stream",
     "text": [
      "1. TypeError\n",
      "2. IndexError\n",
      "3. ValueError\n",
      "4. NameError\n",
      "5. FileNotFoundError\n"
     ]
    }
   ],
   "source": [
    "\n",
    "print(\"1. TypeError\")\n",
    "print(\"2. IndexError\")\n",
    "print(\"3. ValueError\")\n",
    "print(\"4. NameError\")\n",
    "print(\"5. FileNotFoundError\")"
   ]
  },
  {
   "cell_type": "markdown",
   "id": "c23e674f",
   "metadata": {},
   "source": [
    "# Question 10 Python"
   ]
  },
  {
   "cell_type": "markdown",
   "id": "d33209c0",
   "metadata": {},
   "source": [
    "Encryption is the process of hiding the meaning of a text by substituting letters in the\n",
    "message with other letters, according to some system. If the process is successful, no\n",
    "one but the intended recipient can understand the encrypted message. Cryptanalysis\n",
    "refers to attempts to undo the encryption, even if some details of the encryption are\n",
    "unknown (for example, if an encrypted message has been intercepted). The first step\n",
    "of cryptanalysis is often to build up a table of letter frequencies in the encrypted text.\n",
    "Assume that the string letters is already defined as\n",
    "'abcdefghijklmnopqrstuvwxyz'. Write a function called frequencies()\n",
    "that takes a string as its only parameter, and returns a list of integers, showing the\n",
    "number of times each character appears in the text. Your function may ignore any\n",
    "characters that are not in letters.\n",
    ">>> frequencies('The quick red fox got bored and went home.')\n",
    "[1, 1, 1, 3, 5, 1, 1, 2, 1, 0, 1, 0, 1, 2, 4, 0, 1, 2, 0, 2,\n",
    "1, 0, 1, 1, 0, 0]\n",
    ">>> frequencies('apple')"
   ]
  },
  {
   "cell_type": "code",
   "execution_count": 110,
   "id": "cf0c45a0",
   "metadata": {},
   "outputs": [
    {
     "name": "stdout",
     "output_type": "stream",
     "text": [
      "dict_values([1, 1, 1, 3, 5, 1, 1, 2, 1, 0, 1, 0, 1, 2, 4, 0, 1, 2, 0, 3, 1, 0, 1, 1, 0, 0])\n",
      "dict_values([1, 0, 0, 0, 1, 0, 0, 0, 0, 0, 0, 1, 0, 0, 0, 2, 0, 0, 0, 0, 0, 0, 0, 0, 0, 0])\n"
     ]
    }
   ],
   "source": [
    "def frequencies(str):\n",
    "    \n",
    "#creating a variable\n",
    "  \n",
    "    \n",
    "    s = str.lower()       #converting to lower case            \n",
    "    count = {}   #creating an array                     \n",
    "\n",
    "\n",
    "    for i in range(97,123,1) :          #i continues to go through all the alphabet (a-z)and we increase i by 1 after each loop\n",
    "        count [chr(i)] = 0           #populating array with chars that starts with 'a' in index 0\n",
    "        for char in s:                  \n",
    "            if char == chr(i):          \n",
    "                count [chr(i)] += 1  \n",
    "                \n",
    "    \n",
    "    print(count.values()) #the values() shows the number of times for each char (a to z) in the string\n",
    "    \n",
    "\n",
    "\n",
    "frequencies('The quick red fox got bored and went home')\n",
    "frequencies('apple')"
   ]
  }
 ],
 "metadata": {
  "kernelspec": {
   "display_name": "Python 3",
   "language": "python",
   "name": "python3"
  },
  "language_info": {
   "codemirror_mode": {
    "name": "ipython",
    "version": 3
   },
   "file_extension": ".py",
   "mimetype": "text/x-python",
   "name": "python",
   "nbconvert_exporter": "python",
   "pygments_lexer": "ipython3",
   "version": "3.8.8"
  }
 },
 "nbformat": 4,
 "nbformat_minor": 5
}
